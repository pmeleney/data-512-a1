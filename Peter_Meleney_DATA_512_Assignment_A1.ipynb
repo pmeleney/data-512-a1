{
 "cells": [
  {
   "cell_type": "markdown",
   "metadata": {},
   "source": [
    "October 2, 2019  \n",
    "Peter Meleney  \n",
    "DATA 512  \n",
    "\n",
    "## Purpose of Notebook\n",
    "\n",
    "This Jupyter Notebook was created by Peter Meleney on October 2, 2019.  It is meant to satisfy **Assignment A1: Data Curation** for course DATA 512: Human Centered Data Science at the University of Washington Master's of Science in Data Science (MSDS) program."
   ]
  },
  {
   "cell_type": "markdown",
   "metadata": {},
   "source": [
    "## Purpose of Assignment\n",
    "\n",
    "From the DATA-512 Course Wikipedia page:\n",
    "\n",
    "\"The goal of this assignment is to construct, analyze, and publish a dataset of monthly traffic on English Wikipedia from January 1 2008 through August 30 2019. All analysis should be performed in a single Jupyter notebook and all data, documentation, and code should be published in a single GitHub repository.\n",
    "\n",
    "The purpose of the assignment is to demonstrate that you can follow best practices for open scientific research in designing and implementing your project, and make your project fully reproducible by others: from data collection to data analysis.\"[1]"
   ]
  },
  {
   "cell_type": "markdown",
   "metadata": {},
   "source": [
    "## Data Provenance\n",
    "Raw data were gathered from the Wikimedia REST API, Wikimedia Foundation, 2018. CC-BY-SA 3.0.\n",
    "\n",
    "Data for this project are stored on two different systems within the Wikimedia Foundation.  The first data source is the legacy so-called \"pagecounts database\" which \"makes availabe the pagecounts aggregated per project from January 2008 through January 2016.  The main difference among pagecounts and the current pageview data is lack of filtering of self-reported bots, thus automated and human traffic are reported together [in the pagecount database].\"[2] "
   ]
  },
  {
   "cell_type": "code",
   "execution_count": 1,
   "metadata": {},
   "outputs": [],
   "source": [
    "import os\n",
    "import numpy as np\n",
    "import pandas as pd\n",
    "from urllib import request\n",
    "import json\n",
    "import matplotlib.pyplot as plt\n",
    "\n",
    "#Set option to show raw numbers not in scientific notation\n",
    "pd.set_option('display.float_format', lambda x: '%.0f' % x)\n",
    "\n",
    "#Set option to show matplotlib plots in notebook\n",
    "%matplotlib inline"
   ]
  },
  {
   "cell_type": "markdown",
   "metadata": {},
   "source": [
    "## Make Folders for raw and clean data"
   ]
  },
  {
   "cell_type": "code",
   "execution_count": 2,
   "metadata": {},
   "outputs": [],
   "source": [
    "#Make appropriate data and raw_data dirs in place.\n",
    "\n",
    "if not os.path.exists(\"data/\"):\n",
    "    os.mkdir('data/')\n",
    "    os.mkdir(\"data/raw_data\")\n",
    "    os.mkdir(\"data/cleaned_data\")\n",
    "elif not os.path.exists(\"data/raw_data\"):\n",
    "    os.mkdir('data/raw_data')\n",
    "else:\n",
    "    pass\n",
    "\n",
    "if not os.path.exists(\"data/cleaned_data\"):\n",
    "    os.mkdir('data/cleaned_data')\n",
    "else:\n",
    "    pass"
   ]
  },
  {
   "cell_type": "markdown",
   "metadata": {},
   "source": [
    "## Download raw data from Wikimedia REST API endpoints"
   ]
  },
  {
   "cell_type": "code",
   "execution_count": 3,
   "metadata": {},
   "outputs": [
    {
     "name": "stdout",
     "output_type": "stream",
     "text": [
      "beginning legacy file download...\n",
      "download complete.\n"
     ]
    }
   ],
   "source": [
    "#Download raw data from legacy Wikimedia REST API\n",
    "\n",
    "print(\"beginning legacy file download...\")\n",
    "url_pagecount_all_2001010100_2019100100 = \"https://wikimedia.org/api/rest_v1/metrics/legacy/pagecounts/aggregate/en.wikipedia.org/all-sites/monthly/2001010100/2019100100\"\n",
    "request.urlretrieve(url_pagecount_all_2001010100_2019100100, \"data/raw_data/pagecounts_all_2001010100_2019100100.json\")\n",
    "url_pagecount_desktop_2001010100_2019100100 = \"https://wikimedia.org/api/rest_v1/metrics/legacy/pagecounts/aggregate/en.wikipedia.org/desktop-site/monthly/2001010100/2019100100\"\n",
    "request.urlretrieve(url_pagecount_desktop_2001010100_2019100100, \"data/raw_data/pagecounts_desktop-site_2001010100_2019100100.json\")\n",
    "url_pagecount_mobile_2001010100_2019100100 = \"https://wikimedia.org/api/rest_v1/metrics/legacy/pagecounts/aggregate/en.wikipedia.org/mobile-site/monthly/2001010100/2019100100\"\n",
    "request.urlretrieve(url_pagecount_mobile_2001010100_2019100100, \"data/raw_data/pagecounts_mobile-site_2001010100_2019100100.json\")\n",
    "print(\"download complete.\")"
   ]
  },
  {
   "cell_type": "code",
   "execution_count": 4,
   "metadata": {},
   "outputs": [
    {
     "name": "stdout",
     "output_type": "stream",
     "text": [
      "beginning Pageviews file download...\n",
      "download complete.\n"
     ]
    }
   ],
   "source": [
    "#Download raw data from pageviews Wikimedia REST API\n",
    "\n",
    "print(\"beginning Pageviews file download...\")\n",
    "url_pageviews_all_2001010100_2019100100 = \"https://wikimedia.org/api/rest_v1/metrics/pageviews/aggregate/en.wikipedia.org/all-access/user/monthly/2001010100/2019100100\"\n",
    "request.urlretrieve(url_pageviews_all_2001010100_2019100100, \"data/raw_data/pageviews_all_2001010100_2019100100.json\")\n",
    "url_pageviews_desktop_2001010100_2019100100 = \"https://wikimedia.org/api/rest_v1/metrics/pageviews/aggregate/en.wikipedia.org/desktop/user/monthly/2001010100/2019100100\"\n",
    "request.urlretrieve(url_pageviews_desktop_2001010100_2019100100, \"data/raw_data/pageviews_desktop_2001010100_2019100100.json\")\n",
    "url_pageviews_mobile_web_2001010100_2019100100 = \"https://wikimedia.org/api/rest_v1/metrics/pageviews/aggregate/en.wikipedia.org/mobile-web/user/monthly/2001010100/2019100100\"\n",
    "request.urlretrieve(url_pageviews_mobile_web_2001010100_2019100100, \"data/raw_data/pageviews_mobile-web_2001010100_2019100100.json\")\n",
    "url_pageviews_mobile_app_2001010100_2019100100 = \"https://wikimedia.org/api/rest_v1/metrics/pageviews/aggregate/en.wikipedia.org/mobile-app/user/monthly/2001010100/2019100100\"\n",
    "request.urlretrieve(url_pageviews_mobile_app_2001010100_2019100100, \"data/raw_data/pageviews_mobile-app_2001010100_2019100100.json\")\n",
    "print(\"download complete.\")"
   ]
  },
  {
   "cell_type": "markdown",
   "metadata": {},
   "source": [
    "## Compile data from Pageviews API"
   ]
  },
  {
   "cell_type": "code",
   "execution_count": 5,
   "metadata": {},
   "outputs": [],
   "source": [
    "with open('data/raw_data/pageviews_mobile-app_2001010100_2019100100.json') as file:\n",
    "    pageviews_json = json.load(file)\n",
    "    pageviews_mobile_app = pd.DataFrame(pageviews_json['items'])\n",
    "\n",
    "with open('data/raw_data/pageviews_mobile-web_2001010100_2019100100.json') as file:\n",
    "    pageviews_json = json.load(file)\n",
    "    pageviews_mobile_web = pd.DataFrame(pageviews_json['items'])\n",
    "    \n",
    "with open('data/raw_data/pageviews_desktop_2001010100_2019100100.json') as file:\n",
    "    pageviews_json = json.load(file)\n",
    "    pageviews_desktop = pd.DataFrame(pageviews_json['items'])\n",
    "    \n",
    "with open('data/raw_data/pageviews_all_2001010100_2019100100.json') as file:\n",
    "    pageviews_json = json.load(file)\n",
    "    pageviews_all = pd.DataFrame(pageviews_json['items'])"
   ]
  },
  {
   "cell_type": "markdown",
   "metadata": {},
   "source": [
    "Here we take a look at the raw data to ensure it was retrieved correctly."
   ]
  },
  {
   "cell_type": "code",
   "execution_count": 6,
   "metadata": {},
   "outputs": [
    {
     "data": {
      "text/html": [
       "<div>\n",
       "<style scoped>\n",
       "    .dataframe tbody tr th:only-of-type {\n",
       "        vertical-align: middle;\n",
       "    }\n",
       "\n",
       "    .dataframe tbody tr th {\n",
       "        vertical-align: top;\n",
       "    }\n",
       "\n",
       "    .dataframe thead th {\n",
       "        text-align: right;\n",
       "    }\n",
       "</style>\n",
       "<table border=\"1\" class=\"dataframe\">\n",
       "  <thead>\n",
       "    <tr style=\"text-align: right;\">\n",
       "      <th></th>\n",
       "      <th>access</th>\n",
       "      <th>agent</th>\n",
       "      <th>granularity</th>\n",
       "      <th>project</th>\n",
       "      <th>timestamp</th>\n",
       "      <th>views</th>\n",
       "    </tr>\n",
       "  </thead>\n",
       "  <tbody>\n",
       "    <tr>\n",
       "      <th>0</th>\n",
       "      <td>all-access</td>\n",
       "      <td>user</td>\n",
       "      <td>monthly</td>\n",
       "      <td>en.wikipedia</td>\n",
       "      <td>2015070100</td>\n",
       "      <td>7665421980</td>\n",
       "    </tr>\n",
       "    <tr>\n",
       "      <th>1</th>\n",
       "      <td>all-access</td>\n",
       "      <td>user</td>\n",
       "      <td>monthly</td>\n",
       "      <td>en.wikipedia</td>\n",
       "      <td>2015080100</td>\n",
       "      <td>7634815221</td>\n",
       "    </tr>\n",
       "    <tr>\n",
       "      <th>2</th>\n",
       "      <td>all-access</td>\n",
       "      <td>user</td>\n",
       "      <td>monthly</td>\n",
       "      <td>en.wikipedia</td>\n",
       "      <td>2015090100</td>\n",
       "      <td>7655695037</td>\n",
       "    </tr>\n",
       "    <tr>\n",
       "      <th>3</th>\n",
       "      <td>all-access</td>\n",
       "      <td>user</td>\n",
       "      <td>monthly</td>\n",
       "      <td>en.wikipedia</td>\n",
       "      <td>2015100100</td>\n",
       "      <td>7746031887</td>\n",
       "    </tr>\n",
       "    <tr>\n",
       "      <th>4</th>\n",
       "      <td>all-access</td>\n",
       "      <td>user</td>\n",
       "      <td>monthly</td>\n",
       "      <td>en.wikipedia</td>\n",
       "      <td>2015110100</td>\n",
       "      <td>7524321290</td>\n",
       "    </tr>\n",
       "  </tbody>\n",
       "</table>\n",
       "</div>"
      ],
      "text/plain": [
       "       access agent granularity       project   timestamp       views\n",
       "0  all-access  user     monthly  en.wikipedia  2015070100  7665421980\n",
       "1  all-access  user     monthly  en.wikipedia  2015080100  7634815221\n",
       "2  all-access  user     monthly  en.wikipedia  2015090100  7655695037\n",
       "3  all-access  user     monthly  en.wikipedia  2015100100  7746031887\n",
       "4  all-access  user     monthly  en.wikipedia  2015110100  7524321290"
      ]
     },
     "execution_count": 6,
     "metadata": {},
     "output_type": "execute_result"
    }
   ],
   "source": [
    "pageviews_all.head()"
   ]
  },
  {
   "cell_type": "markdown",
   "metadata": {},
   "source": [
    "## Munge data from Pageviews API"
   ]
  },
  {
   "cell_type": "markdown",
   "metadata": {},
   "source": [
    "Sum mobile web and mobile app data into a single \"mobile\" column"
   ]
  },
  {
   "cell_type": "code",
   "execution_count": 7,
   "metadata": {},
   "outputs": [],
   "source": [
    "pageviews_mobile_all = pd.DataFrame(pageviews_mobile_web['views'] + pageviews_mobile_app['views'])\n",
    "pageviews_mobile_all['timestamp'] = pageviews_mobile_web.timestamp"
   ]
  },
  {
   "cell_type": "markdown",
   "metadata": {},
   "source": [
    "Replace timestamp column (string type) with timestamp type, use it as an index and the concatenate all data into a single \"pageviews\" dataframe"
   ]
  },
  {
   "cell_type": "code",
   "execution_count": 8,
   "metadata": {},
   "outputs": [],
   "source": [
    "pageviews_all['timestamp'] = pageviews_all['timestamp'].apply(lambda x: pd.to_datetime(x[:8]))\n",
    "pageviews_desktop['timestamp'] = pageviews_desktop['timestamp'].apply(lambda x: pd.to_datetime(x[:8]))\n",
    "pageviews_mobile_all['timestamp'] = pageviews_mobile_all['timestamp'].apply(lambda x: pd.to_datetime(x[:8]))\n",
    "\n",
    "pageviews_all.index = pageviews_all['timestamp']\n",
    "pageviews_desktop.index = pageviews_desktop['timestamp']\n",
    "pageviews_mobile_all.index = pageviews_mobile_all['timestamp']\n",
    "\n",
    "pageviews = pd.concat([pageviews_all, pageviews_desktop, pageviews_mobile_all], axis = 1)['views']\n",
    "pageviews.columns = ['pageview_all_views', 'pageview_desktop_views','pageview_mobile_views']"
   ]
  },
  {
   "cell_type": "markdown",
   "metadata": {},
   "source": [
    "Take a look at the munged data"
   ]
  },
  {
   "cell_type": "code",
   "execution_count": 9,
   "metadata": {},
   "outputs": [
    {
     "data": {
      "text/html": [
       "<div>\n",
       "<style scoped>\n",
       "    .dataframe tbody tr th:only-of-type {\n",
       "        vertical-align: middle;\n",
       "    }\n",
       "\n",
       "    .dataframe tbody tr th {\n",
       "        vertical-align: top;\n",
       "    }\n",
       "\n",
       "    .dataframe thead th {\n",
       "        text-align: right;\n",
       "    }\n",
       "</style>\n",
       "<table border=\"1\" class=\"dataframe\">\n",
       "  <thead>\n",
       "    <tr style=\"text-align: right;\">\n",
       "      <th></th>\n",
       "      <th>pageview_all_views</th>\n",
       "      <th>pageview_desktop_views</th>\n",
       "      <th>pageview_mobile_views</th>\n",
       "    </tr>\n",
       "    <tr>\n",
       "      <th>timestamp</th>\n",
       "      <th></th>\n",
       "      <th></th>\n",
       "      <th></th>\n",
       "    </tr>\n",
       "  </thead>\n",
       "  <tbody>\n",
       "    <tr>\n",
       "      <th>2015-07-01</th>\n",
       "      <td>7665421980</td>\n",
       "      <td>4376666686</td>\n",
       "      <td>3288755294</td>\n",
       "    </tr>\n",
       "    <tr>\n",
       "      <th>2015-08-01</th>\n",
       "      <td>7634815221</td>\n",
       "      <td>4332482183</td>\n",
       "      <td>3302333038</td>\n",
       "    </tr>\n",
       "    <tr>\n",
       "      <th>2015-09-01</th>\n",
       "      <td>7655695037</td>\n",
       "      <td>4485491704</td>\n",
       "      <td>3170203333</td>\n",
       "    </tr>\n",
       "    <tr>\n",
       "      <th>2015-10-01</th>\n",
       "      <td>7746031887</td>\n",
       "      <td>4477532755</td>\n",
       "      <td>3268499132</td>\n",
       "    </tr>\n",
       "    <tr>\n",
       "      <th>2015-11-01</th>\n",
       "      <td>7524321290</td>\n",
       "      <td>4287720220</td>\n",
       "      <td>3236601070</td>\n",
       "    </tr>\n",
       "  </tbody>\n",
       "</table>\n",
       "</div>"
      ],
      "text/plain": [
       "            pageview_all_views  pageview_desktop_views  pageview_mobile_views\n",
       "timestamp                                                                    \n",
       "2015-07-01          7665421980              4376666686             3288755294\n",
       "2015-08-01          7634815221              4332482183             3302333038\n",
       "2015-09-01          7655695037              4485491704             3170203333\n",
       "2015-10-01          7746031887              4477532755             3268499132\n",
       "2015-11-01          7524321290              4287720220             3236601070"
      ]
     },
     "execution_count": 9,
     "metadata": {},
     "output_type": "execute_result"
    }
   ],
   "source": [
    "pageviews.head()"
   ]
  },
  {
   "cell_type": "markdown",
   "metadata": {},
   "source": [
    "## Pagecount Data Handling"
   ]
  },
  {
   "cell_type": "code",
   "execution_count": 10,
   "metadata": {},
   "outputs": [],
   "source": [
    "with open('data/raw_data/pagecounts_all_2001010100_2019100100.json') as file:\n",
    "    pagecounts_json = json.load(file)\n",
    "    pagecounts_all = pd.DataFrame(pagecounts_json['items'])\n",
    "    \n",
    "with open('data/raw_data/pagecounts_desktop-site_2001010100_2019100100.json') as file:\n",
    "    pagecounts_json = json.load(file)\n",
    "    pagecounts_desktop = pd.DataFrame(pagecounts_json['items'])\n",
    "    \n",
    "with open('data/raw_data/pagecounts_mobile-site_2001010100_2019100100.json') as file:\n",
    "    pagecounts_json = json.load(file)\n",
    "    pagecounts_mobile = pd.DataFrame(pagecounts_json['items'])"
   ]
  },
  {
   "cell_type": "markdown",
   "metadata": {},
   "source": [
    "Take a look at the raw data"
   ]
  },
  {
   "cell_type": "code",
   "execution_count": 11,
   "metadata": {},
   "outputs": [
    {
     "data": {
      "text/html": [
       "<div>\n",
       "<style scoped>\n",
       "    .dataframe tbody tr th:only-of-type {\n",
       "        vertical-align: middle;\n",
       "    }\n",
       "\n",
       "    .dataframe tbody tr th {\n",
       "        vertical-align: top;\n",
       "    }\n",
       "\n",
       "    .dataframe thead th {\n",
       "        text-align: right;\n",
       "    }\n",
       "</style>\n",
       "<table border=\"1\" class=\"dataframe\">\n",
       "  <thead>\n",
       "    <tr style=\"text-align: right;\">\n",
       "      <th></th>\n",
       "      <th>access-site</th>\n",
       "      <th>count</th>\n",
       "      <th>granularity</th>\n",
       "      <th>project</th>\n",
       "      <th>timestamp</th>\n",
       "    </tr>\n",
       "  </thead>\n",
       "  <tbody>\n",
       "    <tr>\n",
       "      <th>0</th>\n",
       "      <td>desktop-site</td>\n",
       "      <td>2998331524</td>\n",
       "      <td>monthly</td>\n",
       "      <td>en.wikipedia</td>\n",
       "      <td>2007120100</td>\n",
       "    </tr>\n",
       "    <tr>\n",
       "      <th>1</th>\n",
       "      <td>desktop-site</td>\n",
       "      <td>4930902570</td>\n",
       "      <td>monthly</td>\n",
       "      <td>en.wikipedia</td>\n",
       "      <td>2008010100</td>\n",
       "    </tr>\n",
       "    <tr>\n",
       "      <th>2</th>\n",
       "      <td>desktop-site</td>\n",
       "      <td>4818393763</td>\n",
       "      <td>monthly</td>\n",
       "      <td>en.wikipedia</td>\n",
       "      <td>2008020100</td>\n",
       "    </tr>\n",
       "    <tr>\n",
       "      <th>3</th>\n",
       "      <td>desktop-site</td>\n",
       "      <td>4955405809</td>\n",
       "      <td>monthly</td>\n",
       "      <td>en.wikipedia</td>\n",
       "      <td>2008030100</td>\n",
       "    </tr>\n",
       "    <tr>\n",
       "      <th>4</th>\n",
       "      <td>desktop-site</td>\n",
       "      <td>5159162183</td>\n",
       "      <td>monthly</td>\n",
       "      <td>en.wikipedia</td>\n",
       "      <td>2008040100</td>\n",
       "    </tr>\n",
       "  </tbody>\n",
       "</table>\n",
       "</div>"
      ],
      "text/plain": [
       "    access-site       count granularity       project   timestamp\n",
       "0  desktop-site  2998331524     monthly  en.wikipedia  2007120100\n",
       "1  desktop-site  4930902570     monthly  en.wikipedia  2008010100\n",
       "2  desktop-site  4818393763     monthly  en.wikipedia  2008020100\n",
       "3  desktop-site  4955405809     monthly  en.wikipedia  2008030100\n",
       "4  desktop-site  5159162183     monthly  en.wikipedia  2008040100"
      ]
     },
     "execution_count": 11,
     "metadata": {},
     "output_type": "execute_result"
    }
   ],
   "source": [
    "pagecounts_desktop.head()"
   ]
  },
  {
   "cell_type": "markdown",
   "metadata": {},
   "source": [
    "Replace timestamp column (string type) with timestamp type, use it as an index and the concatenate all data into a single \"pagecounts\" dataframe\n"
   ]
  },
  {
   "cell_type": "code",
   "execution_count": 12,
   "metadata": {},
   "outputs": [],
   "source": [
    "pagecounts_all['timestamp'] = pagecounts_all['timestamp'].apply(lambda x: pd.to_datetime(x[:8]))\n",
    "pagecounts_desktop['timestamp'] = pagecounts_desktop['timestamp'].apply(lambda x: pd.to_datetime(x[:8]))\n",
    "pagecounts_mobile['timestamp'] = pagecounts_mobile['timestamp'].apply(lambda x: pd.to_datetime(x[:8]))\n",
    "\n",
    "pagecounts_all.index = pagecounts_all['timestamp']\n",
    "pagecounts_desktop.index = pagecounts_desktop['timestamp']\n",
    "pagecounts_mobile.index = pagecounts_mobile['timestamp']\n",
    "\n",
    "pagecounts = pd.concat([pagecounts_all, pagecounts_desktop, pagecounts_mobile], axis = 1)['count']\n",
    "pagecounts.columns = ['pagecount_all_views', 'pagecount_desktop_views', 'pagecount_mobile_views']"
   ]
  },
  {
   "cell_type": "markdown",
   "metadata": {},
   "source": [
    "Take a look at the munged dataframe"
   ]
  },
  {
   "cell_type": "code",
   "execution_count": 13,
   "metadata": {},
   "outputs": [
    {
     "data": {
      "text/html": [
       "<div>\n",
       "<style scoped>\n",
       "    .dataframe tbody tr th:only-of-type {\n",
       "        vertical-align: middle;\n",
       "    }\n",
       "\n",
       "    .dataframe tbody tr th {\n",
       "        vertical-align: top;\n",
       "    }\n",
       "\n",
       "    .dataframe thead th {\n",
       "        text-align: right;\n",
       "    }\n",
       "</style>\n",
       "<table border=\"1\" class=\"dataframe\">\n",
       "  <thead>\n",
       "    <tr style=\"text-align: right;\">\n",
       "      <th></th>\n",
       "      <th>pagecount_all_views</th>\n",
       "      <th>pagecount_desktop_views</th>\n",
       "      <th>pagecount_mobile_views</th>\n",
       "    </tr>\n",
       "    <tr>\n",
       "      <th>timestamp</th>\n",
       "      <th></th>\n",
       "      <th></th>\n",
       "      <th></th>\n",
       "    </tr>\n",
       "  </thead>\n",
       "  <tbody>\n",
       "    <tr>\n",
       "      <th>2007-12-01</th>\n",
       "      <td>2998331524</td>\n",
       "      <td>2998331524</td>\n",
       "      <td>nan</td>\n",
       "    </tr>\n",
       "    <tr>\n",
       "      <th>2008-01-01</th>\n",
       "      <td>4930902570</td>\n",
       "      <td>4930902570</td>\n",
       "      <td>nan</td>\n",
       "    </tr>\n",
       "    <tr>\n",
       "      <th>2008-02-01</th>\n",
       "      <td>4818393763</td>\n",
       "      <td>4818393763</td>\n",
       "      <td>nan</td>\n",
       "    </tr>\n",
       "    <tr>\n",
       "      <th>2008-03-01</th>\n",
       "      <td>4955405809</td>\n",
       "      <td>4955405809</td>\n",
       "      <td>nan</td>\n",
       "    </tr>\n",
       "    <tr>\n",
       "      <th>2008-04-01</th>\n",
       "      <td>5159162183</td>\n",
       "      <td>5159162183</td>\n",
       "      <td>nan</td>\n",
       "    </tr>\n",
       "  </tbody>\n",
       "</table>\n",
       "</div>"
      ],
      "text/plain": [
       "            pagecount_all_views  pagecount_desktop_views  \\\n",
       "timestamp                                                  \n",
       "2007-12-01           2998331524               2998331524   \n",
       "2008-01-01           4930902570               4930902570   \n",
       "2008-02-01           4818393763               4818393763   \n",
       "2008-03-01           4955405809               4955405809   \n",
       "2008-04-01           5159162183               5159162183   \n",
       "\n",
       "            pagecount_mobile_views  \n",
       "timestamp                           \n",
       "2007-12-01                     nan  \n",
       "2008-01-01                     nan  \n",
       "2008-02-01                     nan  \n",
       "2008-03-01                     nan  \n",
       "2008-04-01                     nan  "
      ]
     },
     "execution_count": 13,
     "metadata": {},
     "output_type": "execute_result"
    }
   ],
   "source": [
    "pagecounts.head()"
   ]
  },
  {
   "cell_type": "markdown",
   "metadata": {},
   "source": [
    "## Combined DataFrame Handling"
   ]
  },
  {
   "cell_type": "markdown",
   "metadata": {},
   "source": [
    "Fill NAN with 0 as per instructions, define year and month rows, rearrange columns for appropriate storage as csv, store month and year as ints."
   ]
  },
  {
   "cell_type": "code",
   "execution_count": 14,
   "metadata": {},
   "outputs": [],
   "source": [
    "df = pd.concat([pagecounts, pageviews], axis =1).fillna(0)\n",
    "\n",
    "df['year'] = df.index.year\n",
    "df['month'] = df.index.month\n",
    "\n",
    "df = df[['year', 'month', 'pagecount_all_views', 'pagecount_desktop_views', 'pagecount_mobile_views', 'pageview_all_views', 'pageview_desktop_views', 'pageview_mobile_views']]\n",
    "\n",
    "df['year'] = df['year'].apply(lambda x: int(x))\n",
    "df['month'] = df['month'].apply(lambda x: int(x))"
   ]
  },
  {
   "cell_type": "markdown",
   "metadata": {},
   "source": [
    "Rearrange df to store row-wise instead of column-wise."
   ]
  },
  {
   "cell_type": "code",
   "execution_count": 15,
   "metadata": {},
   "outputs": [],
   "source": [
    "if df.shape[1] < df.shape[0]:\n",
    "    df=df.T\n",
    "else:\n",
    "    pass"
   ]
  },
  {
   "cell_type": "markdown",
   "metadata": {},
   "source": [
    "Take a look at the finished dataframe before csv storage."
   ]
  },
  {
   "cell_type": "code",
   "execution_count": 16,
   "metadata": {},
   "outputs": [
    {
     "data": {
      "text/html": [
       "<div>\n",
       "<style scoped>\n",
       "    .dataframe tbody tr th:only-of-type {\n",
       "        vertical-align: middle;\n",
       "    }\n",
       "\n",
       "    .dataframe tbody tr th {\n",
       "        vertical-align: top;\n",
       "    }\n",
       "\n",
       "    .dataframe thead th {\n",
       "        text-align: right;\n",
       "    }\n",
       "</style>\n",
       "<table border=\"1\" class=\"dataframe\">\n",
       "  <thead>\n",
       "    <tr style=\"text-align: right;\">\n",
       "      <th>timestamp</th>\n",
       "      <th>2007-12-01 00:00:00</th>\n",
       "      <th>2008-01-01 00:00:00</th>\n",
       "      <th>2008-02-01 00:00:00</th>\n",
       "      <th>2008-03-01 00:00:00</th>\n",
       "      <th>2008-04-01 00:00:00</th>\n",
       "    </tr>\n",
       "  </thead>\n",
       "  <tbody>\n",
       "    <tr>\n",
       "      <th>year</th>\n",
       "      <td>2007</td>\n",
       "      <td>2008</td>\n",
       "      <td>2008</td>\n",
       "      <td>2008</td>\n",
       "      <td>2008</td>\n",
       "    </tr>\n",
       "    <tr>\n",
       "      <th>month</th>\n",
       "      <td>12</td>\n",
       "      <td>1</td>\n",
       "      <td>2</td>\n",
       "      <td>3</td>\n",
       "      <td>4</td>\n",
       "    </tr>\n",
       "    <tr>\n",
       "      <th>pagecount_all_views</th>\n",
       "      <td>2998331524</td>\n",
       "      <td>4930902570</td>\n",
       "      <td>4818393763</td>\n",
       "      <td>4955405809</td>\n",
       "      <td>5159162183</td>\n",
       "    </tr>\n",
       "    <tr>\n",
       "      <th>pagecount_desktop_views</th>\n",
       "      <td>2998331524</td>\n",
       "      <td>4930902570</td>\n",
       "      <td>4818393763</td>\n",
       "      <td>4955405809</td>\n",
       "      <td>5159162183</td>\n",
       "    </tr>\n",
       "    <tr>\n",
       "      <th>pagecount_mobile_views</th>\n",
       "      <td>0</td>\n",
       "      <td>0</td>\n",
       "      <td>0</td>\n",
       "      <td>0</td>\n",
       "      <td>0</td>\n",
       "    </tr>\n",
       "    <tr>\n",
       "      <th>pageview_all_views</th>\n",
       "      <td>0</td>\n",
       "      <td>0</td>\n",
       "      <td>0</td>\n",
       "      <td>0</td>\n",
       "      <td>0</td>\n",
       "    </tr>\n",
       "    <tr>\n",
       "      <th>pageview_desktop_views</th>\n",
       "      <td>0</td>\n",
       "      <td>0</td>\n",
       "      <td>0</td>\n",
       "      <td>0</td>\n",
       "      <td>0</td>\n",
       "    </tr>\n",
       "    <tr>\n",
       "      <th>pageview_mobile_views</th>\n",
       "      <td>0</td>\n",
       "      <td>0</td>\n",
       "      <td>0</td>\n",
       "      <td>0</td>\n",
       "      <td>0</td>\n",
       "    </tr>\n",
       "  </tbody>\n",
       "</table>\n",
       "</div>"
      ],
      "text/plain": [
       "timestamp                2007-12-01  2008-01-01  2008-02-01  2008-03-01  \\\n",
       "year                           2007        2008        2008        2008   \n",
       "month                            12           1           2           3   \n",
       "pagecount_all_views      2998331524  4930902570  4818393763  4955405809   \n",
       "pagecount_desktop_views  2998331524  4930902570  4818393763  4955405809   \n",
       "pagecount_mobile_views            0           0           0           0   \n",
       "pageview_all_views                0           0           0           0   \n",
       "pageview_desktop_views            0           0           0           0   \n",
       "pageview_mobile_views             0           0           0           0   \n",
       "\n",
       "timestamp                2008-04-01  \n",
       "year                           2008  \n",
       "month                             4  \n",
       "pagecount_all_views      5159162183  \n",
       "pagecount_desktop_views  5159162183  \n",
       "pagecount_mobile_views            0  \n",
       "pageview_all_views                0  \n",
       "pageview_desktop_views            0  \n",
       "pageview_mobile_views             0  "
      ]
     },
     "execution_count": 16,
     "metadata": {},
     "output_type": "execute_result"
    }
   ],
   "source": [
    "df.iloc[:,:5]"
   ]
  },
  {
   "cell_type": "markdown",
   "metadata": {},
   "source": [
    "## Store data as cleaned .csv file"
   ]
  },
  {
   "cell_type": "code",
   "execution_count": 17,
   "metadata": {},
   "outputs": [],
   "source": [
    "#Store df as a csv file in cleaned_data folder\n",
    "df.to_csv('data/cleaned_data/en-wikipedia_traffic_200712-201809.csv', header=False)"
   ]
  },
  {
   "cell_type": "markdown",
   "metadata": {},
   "source": [
    "## Read data from cleaned_data folder"
   ]
  },
  {
   "cell_type": "code",
   "execution_count": 18,
   "metadata": {},
   "outputs": [],
   "source": [
    "#Read data from cleaned data file storage\n",
    "df = pd.read_csv('data/cleaned_data/en-wikipedia_traffic_200712-201809.csv', header=None, index_col=0)"
   ]
  },
  {
   "cell_type": "markdown",
   "metadata": {},
   "source": [
    "## Preperation for Plotting"
   ]
  },
  {
   "cell_type": "code",
   "execution_count": 19,
   "metadata": {},
   "outputs": [
    {
     "data": {
      "text/html": [
       "<div>\n",
       "<style scoped>\n",
       "    .dataframe tbody tr th:only-of-type {\n",
       "        vertical-align: middle;\n",
       "    }\n",
       "\n",
       "    .dataframe tbody tr th {\n",
       "        vertical-align: top;\n",
       "    }\n",
       "\n",
       "    .dataframe thead th {\n",
       "        text-align: right;\n",
       "    }\n",
       "</style>\n",
       "<table border=\"1\" class=\"dataframe\">\n",
       "  <thead>\n",
       "    <tr style=\"text-align: right;\">\n",
       "      <th></th>\n",
       "      <th>1</th>\n",
       "      <th>2</th>\n",
       "      <th>3</th>\n",
       "      <th>4</th>\n",
       "      <th>5</th>\n",
       "    </tr>\n",
       "    <tr>\n",
       "      <th>0</th>\n",
       "      <th></th>\n",
       "      <th></th>\n",
       "      <th></th>\n",
       "      <th></th>\n",
       "      <th></th>\n",
       "    </tr>\n",
       "  </thead>\n",
       "  <tbody>\n",
       "    <tr>\n",
       "      <th>year</th>\n",
       "      <td>2007</td>\n",
       "      <td>2008</td>\n",
       "      <td>2008</td>\n",
       "      <td>2008</td>\n",
       "      <td>2008</td>\n",
       "    </tr>\n",
       "    <tr>\n",
       "      <th>month</th>\n",
       "      <td>12</td>\n",
       "      <td>1</td>\n",
       "      <td>2</td>\n",
       "      <td>3</td>\n",
       "      <td>4</td>\n",
       "    </tr>\n",
       "    <tr>\n",
       "      <th>pagecount_all_views</th>\n",
       "      <td>2998331524</td>\n",
       "      <td>4930902570</td>\n",
       "      <td>4818393763</td>\n",
       "      <td>4955405809</td>\n",
       "      <td>5159162183</td>\n",
       "    </tr>\n",
       "    <tr>\n",
       "      <th>pagecount_desktop_views</th>\n",
       "      <td>2998331524</td>\n",
       "      <td>4930902570</td>\n",
       "      <td>4818393763</td>\n",
       "      <td>4955405809</td>\n",
       "      <td>5159162183</td>\n",
       "    </tr>\n",
       "    <tr>\n",
       "      <th>pagecount_mobile_views</th>\n",
       "      <td>0</td>\n",
       "      <td>0</td>\n",
       "      <td>0</td>\n",
       "      <td>0</td>\n",
       "      <td>0</td>\n",
       "    </tr>\n",
       "    <tr>\n",
       "      <th>pageview_all_views</th>\n",
       "      <td>0</td>\n",
       "      <td>0</td>\n",
       "      <td>0</td>\n",
       "      <td>0</td>\n",
       "      <td>0</td>\n",
       "    </tr>\n",
       "    <tr>\n",
       "      <th>pageview_desktop_views</th>\n",
       "      <td>0</td>\n",
       "      <td>0</td>\n",
       "      <td>0</td>\n",
       "      <td>0</td>\n",
       "      <td>0</td>\n",
       "    </tr>\n",
       "    <tr>\n",
       "      <th>pageview_mobile_views</th>\n",
       "      <td>0</td>\n",
       "      <td>0</td>\n",
       "      <td>0</td>\n",
       "      <td>0</td>\n",
       "      <td>0</td>\n",
       "    </tr>\n",
       "  </tbody>\n",
       "</table>\n",
       "</div>"
      ],
      "text/plain": [
       "                                 1          2          3          4          5\n",
       "0                                                                             \n",
       "year                          2007       2008       2008       2008       2008\n",
       "month                           12          1          2          3          4\n",
       "pagecount_all_views     2998331524 4930902570 4818393763 4955405809 5159162183\n",
       "pagecount_desktop_views 2998331524 4930902570 4818393763 4955405809 5159162183\n",
       "pagecount_mobile_views           0          0          0          0          0\n",
       "pageview_all_views               0          0          0          0          0\n",
       "pageview_desktop_views           0          0          0          0          0\n",
       "pageview_mobile_views            0          0          0          0          0"
      ]
     },
     "execution_count": 19,
     "metadata": {},
     "output_type": "execute_result"
    }
   ],
   "source": [
    "#Take a look at the data as it exists\n",
    "df.iloc[:,0:5]"
   ]
  },
  {
   "cell_type": "markdown",
   "metadata": {},
   "source": [
    "Here I wrote a quick function to help when creating a date row which will be used for plotting.  The pd.to_datetime function expects a two character string for the month, but when ints are converted directly to strings values less than 10 are converted into one character strings.  This function forces values less than 10 to have a leading zero, fixing this issue."
   ]
  },
  {
   "cell_type": "code",
   "execution_count": 20,
   "metadata": {},
   "outputs": [],
   "source": [
    "# Function to add leading 0 to month when converted from int to string in preperation for \n",
    "def month_to_two_digit_string(month_int):\n",
    "    if month_int < 10:\n",
    "        return '0'+str(int(month_int))\n",
    "    else:\n",
    "        return str(int(month_int))"
   ]
  },
  {
   "cell_type": "markdown",
   "metadata": {},
   "source": [
    "Create a date row with type timestamp."
   ]
  },
  {
   "cell_type": "code",
   "execution_count": 21,
   "metadata": {},
   "outputs": [],
   "source": [
    "df.loc['date'] = df.loc['year'].apply(lambda x: str(int(x))) + df.loc['month'].apply(lambda x: month_to_two_digit_string(x)) +'01'\n",
    "df.loc['date'] = df.loc['date'].apply(lambda x: pd.to_datetime(x, format='%Y%m%d').date())"
   ]
  },
  {
   "cell_type": "markdown",
   "metadata": {},
   "source": [
    "Take a look at the data"
   ]
  },
  {
   "cell_type": "code",
   "execution_count": 22,
   "metadata": {},
   "outputs": [
    {
     "data": {
      "text/html": [
       "<div>\n",
       "<style scoped>\n",
       "    .dataframe tbody tr th:only-of-type {\n",
       "        vertical-align: middle;\n",
       "    }\n",
       "\n",
       "    .dataframe tbody tr th {\n",
       "        vertical-align: top;\n",
       "    }\n",
       "\n",
       "    .dataframe thead th {\n",
       "        text-align: right;\n",
       "    }\n",
       "</style>\n",
       "<table border=\"1\" class=\"dataframe\">\n",
       "  <thead>\n",
       "    <tr style=\"text-align: right;\">\n",
       "      <th></th>\n",
       "      <th>1</th>\n",
       "      <th>2</th>\n",
       "      <th>3</th>\n",
       "      <th>4</th>\n",
       "      <th>5</th>\n",
       "    </tr>\n",
       "    <tr>\n",
       "      <th>0</th>\n",
       "      <th></th>\n",
       "      <th></th>\n",
       "      <th></th>\n",
       "      <th></th>\n",
       "      <th></th>\n",
       "    </tr>\n",
       "  </thead>\n",
       "  <tbody>\n",
       "    <tr>\n",
       "      <th>year</th>\n",
       "      <td>2007</td>\n",
       "      <td>2008</td>\n",
       "      <td>2008</td>\n",
       "      <td>2008</td>\n",
       "      <td>2008</td>\n",
       "    </tr>\n",
       "    <tr>\n",
       "      <th>month</th>\n",
       "      <td>12</td>\n",
       "      <td>1</td>\n",
       "      <td>2</td>\n",
       "      <td>3</td>\n",
       "      <td>4</td>\n",
       "    </tr>\n",
       "    <tr>\n",
       "      <th>pagecount_all_views</th>\n",
       "      <td>2998331524</td>\n",
       "      <td>4930902570</td>\n",
       "      <td>4818393763</td>\n",
       "      <td>4955405809</td>\n",
       "      <td>5159162183</td>\n",
       "    </tr>\n",
       "    <tr>\n",
       "      <th>pagecount_desktop_views</th>\n",
       "      <td>2998331524</td>\n",
       "      <td>4930902570</td>\n",
       "      <td>4818393763</td>\n",
       "      <td>4955405809</td>\n",
       "      <td>5159162183</td>\n",
       "    </tr>\n",
       "    <tr>\n",
       "      <th>pagecount_mobile_views</th>\n",
       "      <td>0</td>\n",
       "      <td>0</td>\n",
       "      <td>0</td>\n",
       "      <td>0</td>\n",
       "      <td>0</td>\n",
       "    </tr>\n",
       "    <tr>\n",
       "      <th>pageview_all_views</th>\n",
       "      <td>0</td>\n",
       "      <td>0</td>\n",
       "      <td>0</td>\n",
       "      <td>0</td>\n",
       "      <td>0</td>\n",
       "    </tr>\n",
       "    <tr>\n",
       "      <th>pageview_desktop_views</th>\n",
       "      <td>0</td>\n",
       "      <td>0</td>\n",
       "      <td>0</td>\n",
       "      <td>0</td>\n",
       "      <td>0</td>\n",
       "    </tr>\n",
       "    <tr>\n",
       "      <th>pageview_mobile_views</th>\n",
       "      <td>0</td>\n",
       "      <td>0</td>\n",
       "      <td>0</td>\n",
       "      <td>0</td>\n",
       "      <td>0</td>\n",
       "    </tr>\n",
       "    <tr>\n",
       "      <th>date</th>\n",
       "      <td>2007-12-01</td>\n",
       "      <td>2008-01-01</td>\n",
       "      <td>2008-02-01</td>\n",
       "      <td>2008-03-01</td>\n",
       "      <td>2008-04-01</td>\n",
       "    </tr>\n",
       "  </tbody>\n",
       "</table>\n",
       "</div>"
      ],
      "text/plain": [
       "                                  1           2           3           4  \\\n",
       "0                                                                         \n",
       "year                           2007        2008        2008        2008   \n",
       "month                            12           1           2           3   \n",
       "pagecount_all_views      2998331524  4930902570  4818393763  4955405809   \n",
       "pagecount_desktop_views  2998331524  4930902570  4818393763  4955405809   \n",
       "pagecount_mobile_views            0           0           0           0   \n",
       "pageview_all_views                0           0           0           0   \n",
       "pageview_desktop_views            0           0           0           0   \n",
       "pageview_mobile_views             0           0           0           0   \n",
       "date                     2007-12-01  2008-01-01  2008-02-01  2008-03-01   \n",
       "\n",
       "                                  5  \n",
       "0                                    \n",
       "year                           2008  \n",
       "month                             4  \n",
       "pagecount_all_views      5159162183  \n",
       "pagecount_desktop_views  5159162183  \n",
       "pagecount_mobile_views            0  \n",
       "pageview_all_views                0  \n",
       "pageview_desktop_views            0  \n",
       "pageview_mobile_views             0  \n",
       "date                     2008-04-01  "
      ]
     },
     "execution_count": 22,
     "metadata": {},
     "output_type": "execute_result"
    }
   ],
   "source": [
    "df.iloc[:,0:5]"
   ]
  },
  {
   "cell_type": "markdown",
   "metadata": {},
   "source": [
    "Replace zero values with NAN for better plotting outcomes."
   ]
  },
  {
   "cell_type": "code",
   "execution_count": 23,
   "metadata": {},
   "outputs": [],
   "source": [
    "df = df.replace(0, np.nan)"
   ]
  },
  {
   "cell_type": "markdown",
   "metadata": {},
   "source": [
    "## Plotting"
   ]
  },
  {
   "cell_type": "markdown",
   "metadata": {},
   "source": [
    "The last month of reported values for the pagecount API are very low but not zero.  They have been excluded from this plot for clarity."
   ]
  },
  {
   "cell_type": "code",
   "execution_count": 24,
   "metadata": {},
   "outputs": [
    {
     "data": {
      "image/png": "[encoded data removed]",
      "text/plain": [
       "<Figure size 864x432 with 1 Axes>"
      ]
     },
     "metadata": {
      "needs_background": "light"
     },
     "output_type": "display_data"
    }
   ],
   "source": [
    "plt.figure(figsize=(12,6))\n",
    "plt.title(\"Views of English Wikipedia for Dec. 2007 through September 2019\")\n",
    "plt.xlabel('Year')\n",
    "plt.ylabel(\"Reported Pageviews/Pagecounts\")\n",
    "plt.plot(df.loc['date'].iloc[:-38], df.loc['pagecount_desktop_views'].iloc[:-38], '--', color='g', label=\"Pagecount_desktop\")\n",
    "plt.plot(df.loc['date'].iloc[:-38], df.loc['pagecount_mobile_views'].iloc[:-38], '--', color='b', label=\"Pagecount_mobile\")\n",
    "plt.plot(df.loc['date'].iloc[:-38], df.loc['pagecount_all_views'].iloc[:-38], '--', color='k', label=\"Pagecount_all\")\n",
    "plt.plot(df.loc['date'], df.loc['pageview_all_views'], color = 'k', label=\"Pageviews_all\")\n",
    "plt.plot(df.loc['date'], df.loc['pageview_desktop_views'], color = 'g', label=\"Pageviews_desktop\")\n",
    "plt.plot(df.loc['date'], df.loc['pageview_mobile_views'], color = 'b', label=\"Pageviews_mobile\")\n",
    "plt.legend(loc='upper left')\n",
    "\n",
    "plt.savefig('English_Wikipedia_Views_12_2007-09_2019.png')"
   ]
  },
  {
   "cell_type": "markdown",
   "metadata": {},
   "source": [
    "References:\n",
    "\n",
    "[1] Morgan, Johnathan T. (2019, October 1)  Human Centered Data Science (Fall 2019)/Assignments.  Retrieved from: https://wiki.communitydata.science/Human_Centered_Data_Science_(Fall_2019)/Assignments, accessed on October 2, 2019.\n",
    "\n",
    "[2] (27 June 2018) Analytics/AQS Legacy Pagecounts. Retrieved from: https://wikitech.wikimedia.org/wiki/Analytics/AQS/Legacy_Pagecounts, accessed on October 2, 2019."
   ]
  },
  {
   "cell_type": "code",
   "execution_count": null,
   "metadata": {},
   "outputs": [],
   "source": []
  }
 ],
 "metadata": {
  "kernelspec": {
   "display_name": "Python 3",
   "language": "python",
   "name": "python3"
  },
  "language_info": {
   "codemirror_mode": {
    "name": "ipython",
    "version": 3
   },
   "file_extension": ".py",
   "mimetype": "text/x-python",
   "name": "python",
   "nbconvert_exporter": "python",
   "pygments_lexer": "ipython3",
   "version": "3.7.1"
  }
 },
 "nbformat": 4,
 "nbformat_minor": 2
}
